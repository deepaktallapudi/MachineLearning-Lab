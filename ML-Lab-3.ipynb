{
 "cells": [
  {
   "cell_type": "markdown",
   "id": "e3cc5b0c",
   "metadata": {},
   "source": [
    "## Machine Learning Lab -3"
   ]
  },
  {
   "cell_type": "code",
   "execution_count": null,
   "id": "b98b11cf",
   "metadata": {},
   "outputs": [],
   "source": [
    "import pandas as pd\n",
    "import numpy as np"
   ]
  },
  {
   "cell_type": "code",
   "execution_count": 8,
   "id": "8736c8a6",
   "metadata": {},
   "outputs": [],
   "source": [
    "import matplotlib.pyplot as plt"
   ]
  },
  {
   "cell_type": "code",
   "execution_count": 9,
   "id": "17962ffc",
   "metadata": {},
   "outputs": [],
   "source": [
    "df = pd.read_csv('tips.csv')"
   ]
  },
  {
   "cell_type": "markdown",
   "id": "ddb5ea6a",
   "metadata": {},
   "source": [
    "### 1.Read the tips dataset from the provided source only. Handle the missing values with the appropriate techniques."
   ]
  },
  {
   "cell_type": "markdown",
   "id": "543e582c",
   "metadata": {},
   "source": [
    "### Methods to find missing values of the given dataset"
   ]
  },
  {
   "cell_type": "code",
   "execution_count": 10,
   "id": "290170d0",
   "metadata": {},
   "outputs": [
    {
     "data": {
      "text/plain": [
       "Unnamed: 0     0\n",
       "total_bill    39\n",
       "tip            0\n",
       "sex            0\n",
       "smoker         0\n",
       "day            0\n",
       "time           0\n",
       "size           0\n",
       "dtype: int64"
      ]
     },
     "execution_count": 10,
     "metadata": {},
     "output_type": "execute_result"
    }
   ],
   "source": [
    "df.isnull().sum()"
   ]
  },
  {
   "cell_type": "code",
   "execution_count": 11,
   "id": "5af9c80a",
   "metadata": {},
   "outputs": [
    {
     "data": {
      "text/plain": [
       "39"
      ]
     },
     "execution_count": 11,
     "metadata": {},
     "output_type": "execute_result"
    }
   ],
   "source": [
    "df.isnull().sum().sum()"
   ]
  },
  {
   "cell_type": "code",
   "execution_count": 12,
   "id": "44e34939",
   "metadata": {},
   "outputs": [
    {
     "data": {
      "text/plain": [
       "39"
      ]
     },
     "execution_count": 12,
     "metadata": {},
     "output_type": "execute_result"
    }
   ],
   "source": [
    "df['total_bill'].isnull().sum()"
   ]
  },
  {
   "cell_type": "code",
   "execution_count": 13,
   "id": "98e8d5ba",
   "metadata": {},
   "outputs": [
    {
     "data": {
      "text/plain": [
       "Unnamed: 0    244\n",
       "total_bill    205\n",
       "tip           244\n",
       "sex           244\n",
       "smoker        244\n",
       "day           244\n",
       "time          244\n",
       "size          244\n",
       "dtype: int64"
      ]
     },
     "execution_count": 13,
     "metadata": {},
     "output_type": "execute_result"
    }
   ],
   "source": [
    "df.notnull().sum()"
   ]
  },
  {
   "cell_type": "code",
   "execution_count": 14,
   "id": "db9db322",
   "metadata": {},
   "outputs": [
    {
     "data": {
      "text/plain": [
       "1913"
      ]
     },
     "execution_count": 14,
     "metadata": {},
     "output_type": "execute_result"
    }
   ],
   "source": [
    "df.notnull().sum().sum()"
   ]
  },
  {
   "cell_type": "code",
   "execution_count": 15,
   "id": "046298e4",
   "metadata": {},
   "outputs": [
    {
     "data": {
      "text/plain": [
       "205"
      ]
     },
     "execution_count": 15,
     "metadata": {},
     "output_type": "execute_result"
    }
   ],
   "source": [
    "df['total_bill'].notnull().sum()"
   ]
  },
  {
   "cell_type": "code",
   "execution_count": 16,
   "id": "22bf6a2c",
   "metadata": {},
   "outputs": [
    {
     "name": "stdout",
     "output_type": "stream",
     "text": [
      "<class 'pandas.core.frame.DataFrame'>\n",
      "RangeIndex: 244 entries, 0 to 243\n",
      "Data columns (total 8 columns):\n",
      " #   Column      Non-Null Count  Dtype  \n",
      "---  ------      --------------  -----  \n",
      " 0   Unnamed: 0  244 non-null    int64  \n",
      " 1   total_bill  205 non-null    float64\n",
      " 2   tip         244 non-null    float64\n",
      " 3   sex         244 non-null    object \n",
      " 4   smoker      244 non-null    object \n",
      " 5   day         244 non-null    object \n",
      " 6   time        244 non-null    object \n",
      " 7   size        244 non-null    int64  \n",
      "dtypes: float64(2), int64(2), object(4)\n",
      "memory usage: 15.4+ KB\n"
     ]
    }
   ],
   "source": [
    "df.info()"
   ]
  },
  {
   "cell_type": "code",
   "execution_count": 17,
   "id": "7f20aeaf",
   "metadata": {},
   "outputs": [
    {
     "data": {
      "text/plain": [
       "Unnamed: 0     0\n",
       "total_bill    39\n",
       "tip            0\n",
       "sex            0\n",
       "smoker         0\n",
       "day            0\n",
       "time           0\n",
       "size           0\n",
       "dtype: int64"
      ]
     },
     "execution_count": 17,
     "metadata": {},
     "output_type": "execute_result"
    }
   ],
   "source": [
    "df.isna().sum()"
   ]
  },
  {
   "cell_type": "code",
   "execution_count": 18,
   "id": "9974ef2d",
   "metadata": {},
   "outputs": [
    {
     "data": {
      "text/plain": [
       "39"
      ]
     },
     "execution_count": 18,
     "metadata": {},
     "output_type": "execute_result"
    }
   ],
   "source": [
    "df.isna().sum().sum()"
   ]
  },
  {
   "cell_type": "markdown",
   "id": "648697bc",
   "metadata": {},
   "source": [
    "### To handle missing values:"
   ]
  },
  {
   "cell_type": "markdown",
   "id": "9870f41a",
   "metadata": {},
   "source": [
    "### 1. Mean, median and Mode imputation \n",
    " "
   ]
  },
  {
   "cell_type": "code",
   "execution_count": 19,
   "id": "1ece8e12",
   "metadata": {},
   "outputs": [
    {
     "data": {
      "text/plain": [
       "21.36019512195122"
      ]
     },
     "execution_count": 19,
     "metadata": {},
     "output_type": "execute_result"
    }
   ],
   "source": [
    "m=df[\"total_bill\"].mean()\n",
    "m"
   ]
  },
  {
   "cell_type": "code",
   "execution_count": 20,
   "id": "e35add65",
   "metadata": {},
   "outputs": [],
   "source": [
    "df['total_bill']=df['total_bill'].fillna(m)"
   ]
  },
  {
   "cell_type": "code",
   "execution_count": 21,
   "id": "c485e749",
   "metadata": {},
   "outputs": [
    {
     "data": {
      "text/html": [
       "<div>\n",
       "<style scoped>\n",
       "    .dataframe tbody tr th:only-of-type {\n",
       "        vertical-align: middle;\n",
       "    }\n",
       "\n",
       "    .dataframe tbody tr th {\n",
       "        vertical-align: top;\n",
       "    }\n",
       "\n",
       "    .dataframe thead th {\n",
       "        text-align: right;\n",
       "    }\n",
       "</style>\n",
       "<table border=\"1\" class=\"dataframe\">\n",
       "  <thead>\n",
       "    <tr style=\"text-align: right;\">\n",
       "      <th></th>\n",
       "      <th>Unnamed: 0</th>\n",
       "      <th>total_bill</th>\n",
       "      <th>tip</th>\n",
       "      <th>sex</th>\n",
       "      <th>smoker</th>\n",
       "      <th>day</th>\n",
       "      <th>time</th>\n",
       "      <th>size</th>\n",
       "    </tr>\n",
       "  </thead>\n",
       "  <tbody>\n",
       "    <tr>\n",
       "      <th>0</th>\n",
       "      <td>0</td>\n",
       "      <td>16.990000</td>\n",
       "      <td>1.01</td>\n",
       "      <td>Female</td>\n",
       "      <td>No</td>\n",
       "      <td>Sun</td>\n",
       "      <td>Dinner</td>\n",
       "      <td>2</td>\n",
       "    </tr>\n",
       "    <tr>\n",
       "      <th>1</th>\n",
       "      <td>1</td>\n",
       "      <td>21.360195</td>\n",
       "      <td>1.66</td>\n",
       "      <td>Male</td>\n",
       "      <td>No</td>\n",
       "      <td>Sun</td>\n",
       "      <td>Dinner</td>\n",
       "      <td>3</td>\n",
       "    </tr>\n",
       "    <tr>\n",
       "      <th>2</th>\n",
       "      <td>2</td>\n",
       "      <td>21.010000</td>\n",
       "      <td>3.50</td>\n",
       "      <td>Male</td>\n",
       "      <td>No</td>\n",
       "      <td>Sun</td>\n",
       "      <td>Dinner</td>\n",
       "      <td>3</td>\n",
       "    </tr>\n",
       "    <tr>\n",
       "      <th>3</th>\n",
       "      <td>3</td>\n",
       "      <td>23.680000</td>\n",
       "      <td>3.31</td>\n",
       "      <td>Male</td>\n",
       "      <td>No</td>\n",
       "      <td>Sun</td>\n",
       "      <td>Dinner</td>\n",
       "      <td>2</td>\n",
       "    </tr>\n",
       "    <tr>\n",
       "      <th>4</th>\n",
       "      <td>4</td>\n",
       "      <td>24.590000</td>\n",
       "      <td>3.61</td>\n",
       "      <td>Female</td>\n",
       "      <td>No</td>\n",
       "      <td>Sun</td>\n",
       "      <td>Dinner</td>\n",
       "      <td>4</td>\n",
       "    </tr>\n",
       "  </tbody>\n",
       "</table>\n",
       "</div>"
      ],
      "text/plain": [
       "   Unnamed: 0  total_bill   tip     sex smoker  day    time  size\n",
       "0           0   16.990000  1.01  Female     No  Sun  Dinner     2\n",
       "1           1   21.360195  1.66    Male     No  Sun  Dinner     3\n",
       "2           2   21.010000  3.50    Male     No  Sun  Dinner     3\n",
       "3           3   23.680000  3.31    Male     No  Sun  Dinner     2\n",
       "4           4   24.590000  3.61  Female     No  Sun  Dinner     4"
      ]
     },
     "execution_count": 21,
     "metadata": {},
     "output_type": "execute_result"
    }
   ],
   "source": [
    "df.head()"
   ]
  },
  {
   "cell_type": "code",
   "execution_count": 22,
   "id": "83d594da",
   "metadata": {},
   "outputs": [
    {
     "data": {
      "text/plain": [
       "20.965000000000003"
      ]
     },
     "execution_count": 22,
     "metadata": {},
     "output_type": "execute_result"
    }
   ],
   "source": [
    "m=df[\"total_bill\"].median()\n",
    "m"
   ]
  },
  {
   "cell_type": "code",
   "execution_count": 23,
   "id": "65cb455f",
   "metadata": {},
   "outputs": [],
   "source": [
    "df['total_bill']=df['total_bill'].fillna(m)"
   ]
  },
  {
   "cell_type": "code",
   "execution_count": 24,
   "id": "5cd8ccf3",
   "metadata": {
    "scrolled": true
   },
   "outputs": [
    {
     "data": {
      "text/html": [
       "<div>\n",
       "<style scoped>\n",
       "    .dataframe tbody tr th:only-of-type {\n",
       "        vertical-align: middle;\n",
       "    }\n",
       "\n",
       "    .dataframe tbody tr th {\n",
       "        vertical-align: top;\n",
       "    }\n",
       "\n",
       "    .dataframe thead th {\n",
       "        text-align: right;\n",
       "    }\n",
       "</style>\n",
       "<table border=\"1\" class=\"dataframe\">\n",
       "  <thead>\n",
       "    <tr style=\"text-align: right;\">\n",
       "      <th></th>\n",
       "      <th>Unnamed: 0</th>\n",
       "      <th>total_bill</th>\n",
       "      <th>tip</th>\n",
       "      <th>sex</th>\n",
       "      <th>smoker</th>\n",
       "      <th>day</th>\n",
       "      <th>time</th>\n",
       "      <th>size</th>\n",
       "    </tr>\n",
       "  </thead>\n",
       "  <tbody>\n",
       "    <tr>\n",
       "      <th>0</th>\n",
       "      <td>0</td>\n",
       "      <td>16.990000</td>\n",
       "      <td>1.01</td>\n",
       "      <td>Female</td>\n",
       "      <td>No</td>\n",
       "      <td>Sun</td>\n",
       "      <td>Dinner</td>\n",
       "      <td>2</td>\n",
       "    </tr>\n",
       "    <tr>\n",
       "      <th>1</th>\n",
       "      <td>1</td>\n",
       "      <td>21.360195</td>\n",
       "      <td>1.66</td>\n",
       "      <td>Male</td>\n",
       "      <td>No</td>\n",
       "      <td>Sun</td>\n",
       "      <td>Dinner</td>\n",
       "      <td>3</td>\n",
       "    </tr>\n",
       "    <tr>\n",
       "      <th>2</th>\n",
       "      <td>2</td>\n",
       "      <td>21.010000</td>\n",
       "      <td>3.50</td>\n",
       "      <td>Male</td>\n",
       "      <td>No</td>\n",
       "      <td>Sun</td>\n",
       "      <td>Dinner</td>\n",
       "      <td>3</td>\n",
       "    </tr>\n",
       "    <tr>\n",
       "      <th>3</th>\n",
       "      <td>3</td>\n",
       "      <td>23.680000</td>\n",
       "      <td>3.31</td>\n",
       "      <td>Male</td>\n",
       "      <td>No</td>\n",
       "      <td>Sun</td>\n",
       "      <td>Dinner</td>\n",
       "      <td>2</td>\n",
       "    </tr>\n",
       "    <tr>\n",
       "      <th>4</th>\n",
       "      <td>4</td>\n",
       "      <td>24.590000</td>\n",
       "      <td>3.61</td>\n",
       "      <td>Female</td>\n",
       "      <td>No</td>\n",
       "      <td>Sun</td>\n",
       "      <td>Dinner</td>\n",
       "      <td>4</td>\n",
       "    </tr>\n",
       "  </tbody>\n",
       "</table>\n",
       "</div>"
      ],
      "text/plain": [
       "   Unnamed: 0  total_bill   tip     sex smoker  day    time  size\n",
       "0           0   16.990000  1.01  Female     No  Sun  Dinner     2\n",
       "1           1   21.360195  1.66    Male     No  Sun  Dinner     3\n",
       "2           2   21.010000  3.50    Male     No  Sun  Dinner     3\n",
       "3           3   23.680000  3.31    Male     No  Sun  Dinner     2\n",
       "4           4   24.590000  3.61  Female     No  Sun  Dinner     4"
      ]
     },
     "execution_count": 24,
     "metadata": {},
     "output_type": "execute_result"
    }
   ],
   "source": [
    "df.head()"
   ]
  },
  {
   "cell_type": "code",
   "execution_count": 25,
   "id": "7f01d719",
   "metadata": {},
   "outputs": [
    {
     "data": {
      "text/plain": [
       "0    21.360195\n",
       "Name: total_bill, dtype: float64"
      ]
     },
     "execution_count": 25,
     "metadata": {},
     "output_type": "execute_result"
    }
   ],
   "source": [
    "m=df[\"total_bill\"].mode()\n",
    "m"
   ]
  },
  {
   "cell_type": "code",
   "execution_count": 26,
   "id": "41fb5fb0",
   "metadata": {},
   "outputs": [],
   "source": [
    "df['total_bill']=df['total_bill'].fillna(m)"
   ]
  },
  {
   "cell_type": "code",
   "execution_count": 27,
   "id": "3534479b",
   "metadata": {},
   "outputs": [
    {
     "data": {
      "text/html": [
       "<div>\n",
       "<style scoped>\n",
       "    .dataframe tbody tr th:only-of-type {\n",
       "        vertical-align: middle;\n",
       "    }\n",
       "\n",
       "    .dataframe tbody tr th {\n",
       "        vertical-align: top;\n",
       "    }\n",
       "\n",
       "    .dataframe thead th {\n",
       "        text-align: right;\n",
       "    }\n",
       "</style>\n",
       "<table border=\"1\" class=\"dataframe\">\n",
       "  <thead>\n",
       "    <tr style=\"text-align: right;\">\n",
       "      <th></th>\n",
       "      <th>Unnamed: 0</th>\n",
       "      <th>total_bill</th>\n",
       "      <th>tip</th>\n",
       "      <th>sex</th>\n",
       "      <th>smoker</th>\n",
       "      <th>day</th>\n",
       "      <th>time</th>\n",
       "      <th>size</th>\n",
       "    </tr>\n",
       "  </thead>\n",
       "  <tbody>\n",
       "    <tr>\n",
       "      <th>0</th>\n",
       "      <td>0</td>\n",
       "      <td>16.990000</td>\n",
       "      <td>1.01</td>\n",
       "      <td>Female</td>\n",
       "      <td>No</td>\n",
       "      <td>Sun</td>\n",
       "      <td>Dinner</td>\n",
       "      <td>2</td>\n",
       "    </tr>\n",
       "    <tr>\n",
       "      <th>1</th>\n",
       "      <td>1</td>\n",
       "      <td>21.360195</td>\n",
       "      <td>1.66</td>\n",
       "      <td>Male</td>\n",
       "      <td>No</td>\n",
       "      <td>Sun</td>\n",
       "      <td>Dinner</td>\n",
       "      <td>3</td>\n",
       "    </tr>\n",
       "    <tr>\n",
       "      <th>2</th>\n",
       "      <td>2</td>\n",
       "      <td>21.010000</td>\n",
       "      <td>3.50</td>\n",
       "      <td>Male</td>\n",
       "      <td>No</td>\n",
       "      <td>Sun</td>\n",
       "      <td>Dinner</td>\n",
       "      <td>3</td>\n",
       "    </tr>\n",
       "    <tr>\n",
       "      <th>3</th>\n",
       "      <td>3</td>\n",
       "      <td>23.680000</td>\n",
       "      <td>3.31</td>\n",
       "      <td>Male</td>\n",
       "      <td>No</td>\n",
       "      <td>Sun</td>\n",
       "      <td>Dinner</td>\n",
       "      <td>2</td>\n",
       "    </tr>\n",
       "    <tr>\n",
       "      <th>4</th>\n",
       "      <td>4</td>\n",
       "      <td>24.590000</td>\n",
       "      <td>3.61</td>\n",
       "      <td>Female</td>\n",
       "      <td>No</td>\n",
       "      <td>Sun</td>\n",
       "      <td>Dinner</td>\n",
       "      <td>4</td>\n",
       "    </tr>\n",
       "  </tbody>\n",
       "</table>\n",
       "</div>"
      ],
      "text/plain": [
       "   Unnamed: 0  total_bill   tip     sex smoker  day    time  size\n",
       "0           0   16.990000  1.01  Female     No  Sun  Dinner     2\n",
       "1           1   21.360195  1.66    Male     No  Sun  Dinner     3\n",
       "2           2   21.010000  3.50    Male     No  Sun  Dinner     3\n",
       "3           3   23.680000  3.31    Male     No  Sun  Dinner     2\n",
       "4           4   24.590000  3.61  Female     No  Sun  Dinner     4"
      ]
     },
     "execution_count": 27,
     "metadata": {},
     "output_type": "execute_result"
    }
   ],
   "source": [
    "df.head()"
   ]
  },
  {
   "cell_type": "markdown",
   "id": "1e9d91f7",
   "metadata": {},
   "source": [
    "### 2.Handle the categorical data in the tips dataset with the relevant approaches such as label-encoding, one hot encoding, ordinal encoding."
   ]
  },
  {
   "cell_type": "code",
   "execution_count": 28,
   "id": "e3e77965",
   "metadata": {
    "scrolled": true
   },
   "outputs": [
    {
     "name": "stdout",
     "output_type": "stream",
     "text": [
      "Unnamed: 0 : 244 labels\n",
      "total_bill : 195 labels\n",
      "tip : 123 labels\n",
      "sex : 2 labels\n",
      "smoker : 2 labels\n",
      "day : 4 labels\n",
      "time : 2 labels\n",
      "size : 6 labels\n"
     ]
    }
   ],
   "source": [
    "for col in df.columns:\n",
    "    print(col,\":\", len(df[col].unique()), 'labels')"
   ]
  },
  {
   "cell_type": "markdown",
   "id": "724e8644",
   "metadata": {},
   "source": [
    "### OneHotEncoder"
   ]
  },
  {
   "cell_type": "markdown",
   "id": "0d6e18e6",
   "metadata": {},
   "source": [
    "* Representation of Categorical Variables: One-Hot Encoding is a technique used to convert categorical variables into a binary representation, where each category is represented by a binary vector. In the binary vector, only one bit is \"hot\" (set to 1), representing the presence of that category, while all other bits are \"cold\" (set to 0).\n",
    "\n",
    "* Avoiding Implicit Ordinality: One-Hot Encoding is particularly useful when dealing with categorical variables where there is no inherent order or hierarchy among the categories. It ensures that the model does not interpret the encoded categories as having any ordinal relationship, thus avoiding any implicit assumptions about the importance or hierarchy of the categories."
   ]
  },
  {
   "cell_type": "code",
   "execution_count": 31,
   "id": "b5e87faf",
   "metadata": {},
   "outputs": [
    {
     "data": {
      "text/html": [
       "<div>\n",
       "<style scoped>\n",
       "    .dataframe tbody tr th:only-of-type {\n",
       "        vertical-align: middle;\n",
       "    }\n",
       "\n",
       "    .dataframe tbody tr th {\n",
       "        vertical-align: top;\n",
       "    }\n",
       "\n",
       "    .dataframe thead th {\n",
       "        text-align: right;\n",
       "    }\n",
       "</style>\n",
       "<table border=\"1\" class=\"dataframe\">\n",
       "  <thead>\n",
       "    <tr style=\"text-align: right;\">\n",
       "      <th></th>\n",
       "      <th>Unnamed: 0</th>\n",
       "      <th>total_bill</th>\n",
       "      <th>tip</th>\n",
       "      <th>size</th>\n",
       "      <th>sex_Female</th>\n",
       "      <th>sex_Male</th>\n",
       "      <th>smoker_No</th>\n",
       "      <th>smoker_Yes</th>\n",
       "      <th>day_Fri</th>\n",
       "      <th>day_Sat</th>\n",
       "      <th>day_Sun</th>\n",
       "      <th>day_Thur</th>\n",
       "      <th>time_Dinner</th>\n",
       "      <th>time_Lunch</th>\n",
       "    </tr>\n",
       "  </thead>\n",
       "  <tbody>\n",
       "    <tr>\n",
       "      <th>0</th>\n",
       "      <td>0</td>\n",
       "      <td>16.990000</td>\n",
       "      <td>1.01</td>\n",
       "      <td>2</td>\n",
       "      <td>1.0</td>\n",
       "      <td>0.0</td>\n",
       "      <td>1.0</td>\n",
       "      <td>0.0</td>\n",
       "      <td>0.0</td>\n",
       "      <td>0.0</td>\n",
       "      <td>1.0</td>\n",
       "      <td>0.0</td>\n",
       "      <td>1.0</td>\n",
       "      <td>0.0</td>\n",
       "    </tr>\n",
       "    <tr>\n",
       "      <th>1</th>\n",
       "      <td>1</td>\n",
       "      <td>21.360195</td>\n",
       "      <td>1.66</td>\n",
       "      <td>3</td>\n",
       "      <td>0.0</td>\n",
       "      <td>1.0</td>\n",
       "      <td>1.0</td>\n",
       "      <td>0.0</td>\n",
       "      <td>0.0</td>\n",
       "      <td>0.0</td>\n",
       "      <td>1.0</td>\n",
       "      <td>0.0</td>\n",
       "      <td>1.0</td>\n",
       "      <td>0.0</td>\n",
       "    </tr>\n",
       "    <tr>\n",
       "      <th>2</th>\n",
       "      <td>2</td>\n",
       "      <td>21.010000</td>\n",
       "      <td>3.50</td>\n",
       "      <td>3</td>\n",
       "      <td>0.0</td>\n",
       "      <td>1.0</td>\n",
       "      <td>1.0</td>\n",
       "      <td>0.0</td>\n",
       "      <td>0.0</td>\n",
       "      <td>0.0</td>\n",
       "      <td>1.0</td>\n",
       "      <td>0.0</td>\n",
       "      <td>1.0</td>\n",
       "      <td>0.0</td>\n",
       "    </tr>\n",
       "    <tr>\n",
       "      <th>3</th>\n",
       "      <td>3</td>\n",
       "      <td>23.680000</td>\n",
       "      <td>3.31</td>\n",
       "      <td>2</td>\n",
       "      <td>0.0</td>\n",
       "      <td>1.0</td>\n",
       "      <td>1.0</td>\n",
       "      <td>0.0</td>\n",
       "      <td>0.0</td>\n",
       "      <td>0.0</td>\n",
       "      <td>1.0</td>\n",
       "      <td>0.0</td>\n",
       "      <td>1.0</td>\n",
       "      <td>0.0</td>\n",
       "    </tr>\n",
       "    <tr>\n",
       "      <th>4</th>\n",
       "      <td>4</td>\n",
       "      <td>24.590000</td>\n",
       "      <td>3.61</td>\n",
       "      <td>4</td>\n",
       "      <td>1.0</td>\n",
       "      <td>0.0</td>\n",
       "      <td>1.0</td>\n",
       "      <td>0.0</td>\n",
       "      <td>0.0</td>\n",
       "      <td>0.0</td>\n",
       "      <td>1.0</td>\n",
       "      <td>0.0</td>\n",
       "      <td>1.0</td>\n",
       "      <td>0.0</td>\n",
       "    </tr>\n",
       "    <tr>\n",
       "      <th>...</th>\n",
       "      <td>...</td>\n",
       "      <td>...</td>\n",
       "      <td>...</td>\n",
       "      <td>...</td>\n",
       "      <td>...</td>\n",
       "      <td>...</td>\n",
       "      <td>...</td>\n",
       "      <td>...</td>\n",
       "      <td>...</td>\n",
       "      <td>...</td>\n",
       "      <td>...</td>\n",
       "      <td>...</td>\n",
       "      <td>...</td>\n",
       "      <td>...</td>\n",
       "    </tr>\n",
       "    <tr>\n",
       "      <th>239</th>\n",
       "      <td>239</td>\n",
       "      <td>29.030000</td>\n",
       "      <td>5.92</td>\n",
       "      <td>3</td>\n",
       "      <td>0.0</td>\n",
       "      <td>1.0</td>\n",
       "      <td>1.0</td>\n",
       "      <td>0.0</td>\n",
       "      <td>0.0</td>\n",
       "      <td>1.0</td>\n",
       "      <td>0.0</td>\n",
       "      <td>0.0</td>\n",
       "      <td>1.0</td>\n",
       "      <td>0.0</td>\n",
       "    </tr>\n",
       "    <tr>\n",
       "      <th>240</th>\n",
       "      <td>240</td>\n",
       "      <td>27.180000</td>\n",
       "      <td>2.00</td>\n",
       "      <td>2</td>\n",
       "      <td>1.0</td>\n",
       "      <td>0.0</td>\n",
       "      <td>0.0</td>\n",
       "      <td>1.0</td>\n",
       "      <td>0.0</td>\n",
       "      <td>1.0</td>\n",
       "      <td>0.0</td>\n",
       "      <td>0.0</td>\n",
       "      <td>1.0</td>\n",
       "      <td>0.0</td>\n",
       "    </tr>\n",
       "    <tr>\n",
       "      <th>241</th>\n",
       "      <td>241</td>\n",
       "      <td>22.670000</td>\n",
       "      <td>2.00</td>\n",
       "      <td>2</td>\n",
       "      <td>0.0</td>\n",
       "      <td>1.0</td>\n",
       "      <td>0.0</td>\n",
       "      <td>1.0</td>\n",
       "      <td>0.0</td>\n",
       "      <td>1.0</td>\n",
       "      <td>0.0</td>\n",
       "      <td>0.0</td>\n",
       "      <td>1.0</td>\n",
       "      <td>0.0</td>\n",
       "    </tr>\n",
       "    <tr>\n",
       "      <th>242</th>\n",
       "      <td>242</td>\n",
       "      <td>17.820000</td>\n",
       "      <td>1.75</td>\n",
       "      <td>2</td>\n",
       "      <td>0.0</td>\n",
       "      <td>1.0</td>\n",
       "      <td>1.0</td>\n",
       "      <td>0.0</td>\n",
       "      <td>0.0</td>\n",
       "      <td>1.0</td>\n",
       "      <td>0.0</td>\n",
       "      <td>0.0</td>\n",
       "      <td>1.0</td>\n",
       "      <td>0.0</td>\n",
       "    </tr>\n",
       "    <tr>\n",
       "      <th>243</th>\n",
       "      <td>243</td>\n",
       "      <td>18.780000</td>\n",
       "      <td>3.00</td>\n",
       "      <td>2</td>\n",
       "      <td>1.0</td>\n",
       "      <td>0.0</td>\n",
       "      <td>1.0</td>\n",
       "      <td>0.0</td>\n",
       "      <td>0.0</td>\n",
       "      <td>0.0</td>\n",
       "      <td>0.0</td>\n",
       "      <td>1.0</td>\n",
       "      <td>1.0</td>\n",
       "      <td>0.0</td>\n",
       "    </tr>\n",
       "  </tbody>\n",
       "</table>\n",
       "<p>244 rows × 14 columns</p>\n",
       "</div>"
      ],
      "text/plain": [
       "     Unnamed: 0  total_bill   tip  size  sex_Female  sex_Male  smoker_No  \\\n",
       "0             0   16.990000  1.01     2         1.0       0.0        1.0   \n",
       "1             1   21.360195  1.66     3         0.0       1.0        1.0   \n",
       "2             2   21.010000  3.50     3         0.0       1.0        1.0   \n",
       "3             3   23.680000  3.31     2         0.0       1.0        1.0   \n",
       "4             4   24.590000  3.61     4         1.0       0.0        1.0   \n",
       "..          ...         ...   ...   ...         ...       ...        ...   \n",
       "239         239   29.030000  5.92     3         0.0       1.0        1.0   \n",
       "240         240   27.180000  2.00     2         1.0       0.0        0.0   \n",
       "241         241   22.670000  2.00     2         0.0       1.0        0.0   \n",
       "242         242   17.820000  1.75     2         0.0       1.0        1.0   \n",
       "243         243   18.780000  3.00     2         1.0       0.0        1.0   \n",
       "\n",
       "     smoker_Yes  day_Fri  day_Sat  day_Sun  day_Thur  time_Dinner  time_Lunch  \n",
       "0           0.0      0.0      0.0      1.0       0.0          1.0         0.0  \n",
       "1           0.0      0.0      0.0      1.0       0.0          1.0         0.0  \n",
       "2           0.0      0.0      0.0      1.0       0.0          1.0         0.0  \n",
       "3           0.0      0.0      0.0      1.0       0.0          1.0         0.0  \n",
       "4           0.0      0.0      0.0      1.0       0.0          1.0         0.0  \n",
       "..          ...      ...      ...      ...       ...          ...         ...  \n",
       "239         0.0      0.0      1.0      0.0       0.0          1.0         0.0  \n",
       "240         1.0      0.0      1.0      0.0       0.0          1.0         0.0  \n",
       "241         1.0      0.0      1.0      0.0       0.0          1.0         0.0  \n",
       "242         0.0      0.0      1.0      0.0       0.0          1.0         0.0  \n",
       "243         0.0      0.0      0.0      0.0       1.0          1.0         0.0  \n",
       "\n",
       "[244 rows x 14 columns]"
      ]
     },
     "execution_count": 31,
     "metadata": {},
     "output_type": "execute_result"
    }
   ],
   "source": [
    "from sklearn.preprocessing import OneHotEncoder\n",
    "\n",
    "categorical_columns = ['sex', 'smoker', 'day', 'time']\n",
    "\n",
    "# Create one-hot encoder object\n",
    "encoder = OneHotEncoder()\n",
    "\n",
    "# Fit encoder to the selected categorical columns\n",
    "encoder.fit(df[categorical_columns])\n",
    "\n",
    "# Transform the selected categorical columns\n",
    "onehot_encoded = encoder.transform(df[categorical_columns])\n",
    "\n",
    "# Convert sparse matrix to array and convert to DataFrame\n",
    "onehot_encoded_df = pd.DataFrame(onehot_encoded.toarray(), columns=encoder.get_feature_names_out(categorical_columns))\n",
    "\n",
    "# Concatenate the one-hot encoded DataFrame with the non-categorical columns\n",
    "final_df = pd.concat([df.drop(columns=categorical_columns), onehot_encoded_df], axis=1)\n",
    "final_df"
   ]
  },
  {
   "cell_type": "markdown",
   "id": "e1d9b9e9",
   "metadata": {},
   "source": [
    "### Label Encoding"
   ]
  },
  {
   "cell_type": "markdown",
   "id": "0ea06ae3",
   "metadata": {},
   "source": [
    "* Ordinal Encoding of Categorical Variables: Label Encoding is a technique used to convert categorical variables into numerical format by assigning a unique integer to each category. Each category is mapped to a different integer, preserving the ordinal information if there is any inherent order among the categories.\n",
    "\n",
    "* Simplicity and Efficiency: Label Encoding is simple to implement and efficient in terms of memory usage and computational cost compared to One-Hot Encoding, especially when dealing with a large number of categories. It can be particularly effective when there is a natural order among the categories, such as ordinal variables like \"low,\" \"medium,\" and \"high.\"\n",
    "\n"
   ]
  },
  {
   "cell_type": "code",
   "execution_count": 47,
   "id": "2eef0df6",
   "metadata": {},
   "outputs": [
    {
     "name": "stdout",
     "output_type": "stream",
     "text": [
      "Original dataset:\n",
      "   Unnamed: 0  total_bill   tip     sex smoker  day    time  size\n",
      "0           0       16.99  1.01  Female     No  Sun  Dinner     2\n",
      "1           1         NaN  1.66    Male     No  Sun  Dinner     3\n",
      "2           2       21.01  3.50    Male     No  Sun  Dinner     3\n",
      "3           3       23.68  3.31    Male     No  Sun  Dinner     2\n",
      "4           4       24.59  3.61  Female     No  Sun  Dinner     4\n",
      "\n",
      "Transformed dataset with Label Encoding:\n",
      "   Unnamed: 0  total_bill   tip     sex smoker  day    time  size  \\\n",
      "0           0       16.99  1.01  Female     No  Sun  Dinner     2   \n",
      "1           1         NaN  1.66    Male     No  Sun  Dinner     3   \n",
      "2           2       21.01  3.50    Male     No  Sun  Dinner     3   \n",
      "3           3       23.68  3.31    Male     No  Sun  Dinner     2   \n",
      "4           4       24.59  3.61  Female     No  Sun  Dinner     4   \n",
      "\n",
      "   sex_label_encoded  smoker_label_encoded  day_label_encoded  \\\n",
      "0                  0                     0                  0   \n",
      "1                  1                     0                  0   \n",
      "2                  1                     0                  0   \n",
      "3                  1                     0                  0   \n",
      "4                  0                     0                  0   \n",
      "\n",
      "   time_label_encoded  \n",
      "0                   0  \n",
      "1                   0  \n",
      "2                   0  \n",
      "3                   0  \n",
      "4                   0  \n"
     ]
    }
   ],
   "source": [
    "import pandas as pd\n",
    "\n",
    "tips_df = pd.read_csv(\"tips.csv\")\n",
    "\n",
    "print(\"Original dataset:\")\n",
    "print(tips_df.head())\n",
    "\n",
    "categorical_cols = ['sex', 'smoker', 'day', 'time']\n",
    "\n",
    "# Label Encoding\n",
    "for col in categorical_cols:\n",
    "    tips_df[col + '_label_encoded'] = pd.factorize(tips_df[col])[0]\n",
    "\n",
    "# Display the transformed dataset\n",
    "print(\"\\nTransformed dataset with Label Encoding:\")\n",
    "print(tips_df.head())\n"
   ]
  },
  {
   "cell_type": "markdown",
   "id": "ef98d048",
   "metadata": {},
   "source": [
    "### 3. Perform feature scaling techniques such as min-max normalization, standardization, z-score, on the tips dataset."
   ]
  },
  {
   "cell_type": "markdown",
   "id": "2c6fa079",
   "metadata": {},
   "source": [
    "### MinMax Normilzation"
   ]
  },
  {
   "cell_type": "markdown",
   "id": "e247dfc8",
   "metadata": {},
   "source": [
    "* Normalization to a Fixed Range: Min-Max Scaling, also known as Min-Max Normalization, rescales features to a fixed range, usually between 0 and 1. This is achieved by subtracting the minimum value and dividing by the range (maximum - minimum).\n",
    "\n",
    "* Preserves Relationships and Outliers: Min-Max Scaling preserves the relative relationships between values in the dataset and is less affected by outliers compared to some other scaling methods. However, it may not perform well if the distribution of the data is not uniform or if there are extreme outliers."
   ]
  },
  {
   "cell_type": "markdown",
   "id": "9da1af38",
   "metadata": {},
   "source": [
    "###  Standardization (Z-score normalization)"
   ]
  },
  {
   "cell_type": "markdown",
   "id": "2c35f1b8",
   "metadata": {},
   "source": [
    "* Transformation to a Standard Normal Distribution: Standardization, also known as Z-score normalization, transforms the data to have a mean of 0 and a standard deviation of 1. This is achieved by subtracting the mean and dividing by the standard deviation.\n",
    "\n",
    "* Maintains Shape of the Distribution: Standardization does not bound the data to a specific range like Min-Max Scaling. Instead, it maintains the shape of the distribution of the original data while centering it around the mean and scaling it by the standard deviation. It's robust to outliers since it's based on the mean and standard deviation, which are less affected by extreme values compared to the minimum and maximum."
   ]
  },
  {
   "cell_type": "code",
   "execution_count": 50,
   "id": "64d88ba0",
   "metadata": {
    "scrolled": false
   },
   "outputs": [
    {
     "name": "stdout",
     "output_type": "stream",
     "text": [
      "   Unnamed: 0  total_bill   tip     sex smoker  day    time  size\n",
      "0           0       16.99  1.01  Female     No  Sun  Dinner     2\n",
      "1           1         NaN  1.66    Male     No  Sun  Dinner     3\n",
      "2           2       21.01  3.50    Male     No  Sun  Dinner     3\n",
      "3           3       23.68  3.31    Male     No  Sun  Dinner     2\n",
      "4           4       24.59  3.61  Female     No  Sun  Dinner     4\n",
      "\n",
      "Min-Max Scaled Data:\n",
      "   total_bill       tip  size\n",
      "0    0.291579  0.001111   0.2\n",
      "1         NaN  0.073333   0.4\n",
      "2    0.375786  0.277778   0.4\n",
      "3    0.431713  0.256667   0.2\n",
      "4    0.450775  0.290000   0.6\n",
      "\n",
      "Standard Scaled Data:\n",
      "   total_bill       tip      size\n",
      "0   -0.494024 -1.439947 -0.600193\n",
      "1         NaN -0.969205  0.453383\n",
      "2   -0.039587  0.363356  0.453383\n",
      "3    0.262240  0.225754 -0.600193\n",
      "4    0.365110  0.443020  1.506958\n",
      "\n",
      "Z-Score Scaled Data:\n",
      "   total_bill       tip      size\n",
      "0   -0.494024 -1.439947 -0.600193\n",
      "1         NaN -0.969205  0.453383\n",
      "2   -0.039587  0.363356  0.453383\n",
      "3    0.262240  0.225754 -0.600193\n",
      "4    0.365110  0.443020  1.506958\n"
     ]
    }
   ],
   "source": [
    "import pandas as pd\n",
    "from sklearn.preprocessing import MinMaxScaler, StandardScaler\n",
    "from sklearn.preprocessing import scale\n",
    "\n",
    "# Load the dataset\n",
    "df = pd.read_csv('tips.csv')\n",
    "\n",
    "# Display the first few rows of the dataset\n",
    "print(df.head())\n",
    "\n",
    "numerical_cols = ['total_bill', 'tip', 'size']\n",
    "numerical_data = df[numerical_cols]\n",
    "\n",
    "min_max_scaler = MinMaxScaler()\n",
    "min_max_scaled_data = min_max_scaler.fit_transform(numerical_data)\n",
    "\n",
    "standard_scaler = StandardScaler()\n",
    "standard_scaled_data = standard_scaler.fit_transform(numerical_data)\n",
    "\n",
    "z_score_scaled_data = scale(numerical_data)\n",
    "\n",
    "min_max_scaled_df = pd.DataFrame(min_max_scaled_data, columns=numerical_cols)\n",
    "standard_scaled_df = pd.DataFrame(standard_scaled_data, columns=numerical_cols)\n",
    "z_score_scaled_df = pd.DataFrame(z_score_scaled_data, columns=numerical_cols)\n",
    "\n",
    "print(\"\\nMin-Max Scaled Data:\")\n",
    "print(min_max_scaled_df.head())\n",
    "\n",
    "print(\"\\nStandard Scaled Data:\")\n",
    "print(standard_scaled_df.head())\n",
    "\n",
    "print(\"\\nZ-Score Scaled Data:\")\n",
    "print(z_score_scaled_df.head())"
   ]
  },
  {
   "cell_type": "code",
   "execution_count": 54,
   "id": "ab3e4c8d",
   "metadata": {},
   "outputs": [
    {
     "data": {
      "image/png": "[encoded data removed]",
      "text/plain": [
       "<Figure size 1200x600 with 4 Axes>"
      ]
     },
     "metadata": {},
     "output_type": "display_data"
    }
   ],
   "source": [
    "\n",
    "import matplotlib.pyplot as plt\n",
    "\n",
    "# Plot histograms for original and scaled features\n",
    "plt.figure(figsize=(12, 6))\n",
    "\n",
    "# Original features\n",
    "plt.subplot(2, 2, 1)\n",
    "plt.hist(tips_df['total_bill'], bins=20, color='blue', alpha=0.7)\n",
    "plt.title('Original Total Bill')\n",
    "plt.xlabel('Total Bill')\n",
    "plt.ylabel('Frequency')\n",
    "\n",
    "plt.subplot(2, 2, 2)\n",
    "plt.hist(tips_df['tip'], bins=20, color='green', alpha=0.7)\n",
    "plt.title('Original Tip')\n",
    "plt.xlabel('Tip')\n",
    "plt.ylabel('Frequency')\n",
    "\n",
    "# Scaled features\n",
    "plt.subplot(2, 2, 3)\n",
    "plt.hist(tips_df['total_bill_minmax'], bins=20, color='red', alpha=0.7)\n",
    "plt.title('Min-Max Scaled Total Bill')\n",
    "plt.xlabel('Total Bill (Min-Max Scaled)')\n",
    "plt.ylabel('Frequency')\n",
    "\n",
    "plt.subplot(2, 2, 4)\n",
    "plt.hist(tips_df['tip_standardized'], bins=20, color='orange', alpha=0.7)\n",
    "plt.title('Standardized Tip')\n",
    "plt.xlabel('Tip (Standardized)')\n",
    "plt.ylabel('Frequency')\n",
    "\n",
    "plt.tight_layout()\n",
    "plt.show()\n"
   ]
  },
  {
   "cell_type": "markdown",
   "id": "86309a8d",
   "metadata": {},
   "source": [
    "### 4.Create a new feature representing the average tip percentage for each dining party size."
   ]
  },
  {
   "cell_type": "code",
   "execution_count": 43,
   "id": "5322a81e",
   "metadata": {},
   "outputs": [
    {
     "name": "stdout",
     "output_type": "stream",
     "text": [
      "Updated tips dataset with average tip percentage by party size:\n",
      "   Unnamed: 0  total_bill   tip     sex smoker  day    time  size  \\\n",
      "0           0       16.99  1.01  Female     No  Sun  Dinner     2   \n",
      "1           1         NaN  1.66    Male     No  Sun  Dinner     3   \n",
      "2           2       21.01  3.50    Male     No  Sun  Dinner     3   \n",
      "3           3       23.68  3.31    Male     No  Sun  Dinner     2   \n",
      "4           4       24.59  3.61  Female     No  Sun  Dinner     4   \n",
      "\n",
      "   tip_percentage  avg_tip_percentage  \n",
      "0        5.944673           16.587698  \n",
      "1             NaN           15.165983  \n",
      "2       16.658734           15.165983  \n",
      "3       13.978041           16.587698  \n",
      "4       14.680765           14.594901  \n"
     ]
    }
   ],
   "source": [
    "import pandas as pd\n",
    "\n",
    "# Read the dataset from CSV\n",
    "tips_df = pd.read_csv(\"tips.csv\")\n",
    "\n",
    "# Calculate tip percentage\n",
    "tips_df['tip_percentage'] = (tips_df['tip'] / tips_df['total_bill']) * 100\n",
    "\n",
    "# Calculate average tip percentage for each party size\n",
    "average_tip_percentage_by_party_size = tips_df.groupby('size')['tip_percentage'].mean().reset_index()\n",
    "average_tip_percentage_by_party_size.rename(columns={'tip_percentage': 'avg_tip_percentage'}, inplace=True)\n",
    "\n",
    "# Merge the average tip percentage back into the original dataframe\n",
    "tips_df = pd.merge(tips_df, average_tip_percentage_by_party_size, on='size', how='left')\n",
    "\n",
    "# Display the updated dataset\n",
    "print(\"Updated tips dataset with average tip percentage by party size:\")\n",
    "print(tips_df.head())\n"
   ]
  },
  {
   "cell_type": "markdown",
   "id": "9acfab9f",
   "metadata": {},
   "source": [
    "### 5.Create a new feature based on total bill and tips if total bill is greater than 10$\n",
    "\n",
    "### and tips is greaterthan 3$ mark as Highest-bills-with-tips otherwise Normal-bills"
   ]
  },
  {
   "cell_type": "code",
   "execution_count": 45,
   "id": "2c9cf1cc",
   "metadata": {},
   "outputs": [
    {
     "name": "stdout",
     "output_type": "stream",
     "text": [
      "Updated tips dataset with bill type:\n",
      "   Unnamed: 0  total_bill   tip     sex smoker  day    time  size  \\\n",
      "0           0       16.99  1.01  Female     No  Sun  Dinner     2   \n",
      "1           1         NaN  1.66    Male     No  Sun  Dinner     3   \n",
      "2           2       21.01  3.50    Male     No  Sun  Dinner     3   \n",
      "3           3       23.68  3.31    Male     No  Sun  Dinner     2   \n",
      "4           4       24.59  3.61  Female     No  Sun  Dinner     4   \n",
      "\n",
      "                 bill_type  \n",
      "0             Normal-bills  \n",
      "1             Normal-bills  \n",
      "2  Highest-bills-with-tips  \n",
      "3  Highest-bills-with-tips  \n",
      "4  Highest-bills-with-tips  \n"
     ]
    }
   ],
   "source": [
    "import pandas as pd\n",
    "\n",
    "# Read the dataset from CSV\n",
    "tips_df = pd.read_csv(\"tips.csv\")\n",
    "\n",
    "# Create a new feature based on total bill and tips\n",
    "tips_df['bill_type'] = 'Normal-bills'\n",
    "tips_df.loc[(tips_df['total_bill'] > 10) & (tips_df['tip'] > 3), 'bill_type'] = 'Highest-bills-with-tips'\n",
    "\n",
    "# Display the updated dataset\n",
    "print(\"Updated tips dataset with bill type:\")\n",
    "print(tips_df.head())\n"
   ]
  },
  {
   "cell_type": "code",
   "execution_count": null,
   "id": "4b8d6353",
   "metadata": {},
   "outputs": [],
   "source": []
  }
 ],
 "metadata": {
  "kernelspec": {
   "display_name": "Python 3 (ipykernel)",
   "language": "python",
   "name": "python3"
  },
  "language_info": {
   "codemirror_mode": {
    "name": "ipython",
    "version": 3
   },
   "file_extension": ".py",
   "mimetype": "text/x-python",
   "name": "python",
   "nbconvert_exporter": "python",
   "pygments_lexer": "ipython3",
   "version": "3.10.9"
  }
 },
 "nbformat": 4,
 "nbformat_minor": 5
}
