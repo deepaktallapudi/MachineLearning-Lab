{
 "cells": [
  {
   "cell_type": "markdown",
   "id": "0837eced",
   "metadata": {},
   "source": [
    "### Lab-6 [28/02/2024]"
   ]
  },
  {
   "cell_type": "markdown",
   "id": "495354ba",
   "metadata": {},
   "source": [
    "### 1. Implement K-NN Classifier for classification of any dataset of your choice.\n",
    "### a. Load an existing data set\n",
    "### b. Split the data set to train and test sets\n",
    "### c. Test your model using test set. Find accuracy and confusion Matrix.\n",
    "### d. Examine the effect of the value of K on accuracy/performance. Plot the curve “k vsaccuracy” and find out the value of k for maximum accuracy for the test samples."
   ]
  },
  {
   "cell_type": "code",
   "execution_count": 39,
   "id": "15494f9c",
   "metadata": {},
   "outputs": [],
   "source": [
    "import pandas as pd\n",
    "import numpy as np\n",
    "import matplotlib.pyplot as plt\n",
    "%matplotlib inline"
   ]
  },
  {
   "cell_type": "code",
   "execution_count": 40,
   "id": "6e8d7767",
   "metadata": {},
   "outputs": [
    {
     "data": {
      "text/html": [
       "<div>\n",
       "<style scoped>\n",
       "    .dataframe tbody tr th:only-of-type {\n",
       "        vertical-align: middle;\n",
       "    }\n",
       "\n",
       "    .dataframe tbody tr th {\n",
       "        vertical-align: top;\n",
       "    }\n",
       "\n",
       "    .dataframe thead th {\n",
       "        text-align: right;\n",
       "    }\n",
       "</style>\n",
       "<table border=\"1\" class=\"dataframe\">\n",
       "  <thead>\n",
       "    <tr style=\"text-align: right;\">\n",
       "      <th></th>\n",
       "      <th>Outlook</th>\n",
       "      <th>Temperature</th>\n",
       "      <th>Humidity</th>\n",
       "      <th>Wind</th>\n",
       "      <th>Answer</th>\n",
       "    </tr>\n",
       "  </thead>\n",
       "  <tbody>\n",
       "    <tr>\n",
       "      <th>0</th>\n",
       "      <td>sunny</td>\n",
       "      <td>hot</td>\n",
       "      <td>high</td>\n",
       "      <td>weak</td>\n",
       "      <td>no</td>\n",
       "    </tr>\n",
       "    <tr>\n",
       "      <th>1</th>\n",
       "      <td>sunny</td>\n",
       "      <td>hot</td>\n",
       "      <td>high</td>\n",
       "      <td>strong</td>\n",
       "      <td>no</td>\n",
       "    </tr>\n",
       "    <tr>\n",
       "      <th>2</th>\n",
       "      <td>overcast</td>\n",
       "      <td>hot</td>\n",
       "      <td>high</td>\n",
       "      <td>weak</td>\n",
       "      <td>yes</td>\n",
       "    </tr>\n",
       "    <tr>\n",
       "      <th>3</th>\n",
       "      <td>rain</td>\n",
       "      <td>mild</td>\n",
       "      <td>high</td>\n",
       "      <td>weak</td>\n",
       "      <td>yes</td>\n",
       "    </tr>\n",
       "    <tr>\n",
       "      <th>4</th>\n",
       "      <td>rain</td>\n",
       "      <td>cool</td>\n",
       "      <td>normal</td>\n",
       "      <td>weak</td>\n",
       "      <td>yes</td>\n",
       "    </tr>\n",
       "  </tbody>\n",
       "</table>\n",
       "</div>"
      ],
      "text/plain": [
       "    Outlook Temperature Humidity    Wind Answer\n",
       "0     sunny         hot     high    weak     no\n",
       "1     sunny         hot     high  strong     no\n",
       "2  overcast         hot     high    weak    yes\n",
       "3      rain        mild     high    weak    yes\n",
       "4      rain        cool   normal    weak    yes"
      ]
     },
     "execution_count": 40,
     "metadata": {},
     "output_type": "execute_result"
    }
   ],
   "source": [
    "df = pd.read_csv(\"weatherdata.csv\")\n",
    "df.head()"
   ]
  },
  {
   "cell_type": "code",
   "execution_count": 43,
   "id": "594830eb",
   "metadata": {},
   "outputs": [
    {
     "name": "stdout",
     "output_type": "stream",
     "text": [
      "X_train shape: (12, 4)\n",
      "X_test shape: (4, 4)\n",
      "y_train shape: (12,)\n",
      "y_test shape: (4,)\n"
     ]
    }
   ],
   "source": [
    "from sklearn.model_selection import train_test_split\n",
    "\n",
    "X = df[['Outlook', 'Temperature', 'Humidity', 'Wind']]\n",
    "y = df['Answer']\n",
    "\n",
    "# Split the data into training and testing sets\n",
    "# Here the data is Spilited in 80:20 ratio\n",
    "#80 is for training , 20 is for testing\n",
    "X_train, X_test, y_train, y_test = train_test_split(X, y, test_size=0.2, random_state=42)\n",
    "# Print the shapes of the resulting sets\n",
    "print(\"X_train shape:\", X_train.shape)\n",
    "print(\"X_test shape:\", X_test.shape)\n",
    "print(\"y_train shape:\", y_train.shape)\n",
    "print(\"y_test shape:\", y_test.shape)"
   ]
  },
  {
   "cell_type": "code",
   "execution_count": 45,
   "id": "d28fbe21",
   "metadata": {},
   "outputs": [
    {
     "name": "stdout",
     "output_type": "stream",
     "text": [
      "Accuracy: 0.25\n",
      "Confusion Matrix:\n",
      "[[0 1 0]\n",
      " [0 0 1]\n",
      " [1 0 1]]\n"
     ]
    }
   ],
   "source": [
    "from sklearn.metrics import accuracy_score, confusion_matrix\n",
    "\n",
    "import numpy as np\n",
    "from collections import Counter\n",
    "\n",
    "class KNNClassifier:\n",
    "    def __init__(self, k):\n",
    "        self.k = k\n",
    "\n",
    "    def fit(self, X_train, y_train):\n",
    "        self.X_train = X_train\n",
    "        self.y_train = y_train\n",
    "\n",
    "    def predict(self, X_test):\n",
    "        predictions = []\n",
    "        for i in range(len(X_test)):\n",
    "            distances = []\n",
    "            for j in range(len(self.X_train)):\n",
    "                # For simplicity, calculate distance as the number of mismatched values\n",
    "                distance = np.sum(X_test[i] != self.X_train[j])\n",
    "                distances.append((distance, self.y_train[j]))\n",
    "            distances.sort(key=lambda x: x[0])\n",
    "            nearest_neighbors = distances[:self.k]\n",
    "            neighbor_labels = [neighbor[1] for neighbor in nearest_neighbors]\n",
    "            most_common_label = Counter(neighbor_labels).most_common(1)[0][0]\n",
    "            predictions.append(most_common_label)\n",
    "        return predictions\n",
    "\n",
    "# Initialize the K-NN Classifier\n",
    "knn = KNNClassifier(k=3)\n",
    "\n",
    "# Fit the model\n",
    "knn.fit(X_train.values, Y_train.values)\n",
    "\n",
    "# Make predictions on test set\n",
    "predictions = knn.predict(X_test.values)\n",
    "\n",
    "# Calculate accuracy\n",
    "accuracy = accuracy_score(Y_test, predictions)\n",
    "print(\"Accuracy:\", accuracy)\n",
    "\n",
    "# Confusion Matrix\n",
    "conf_matrix = confusion_matrix(Y_test, predictions)\n",
    "print(\"Confusion Matrix:\")\n",
    "print(conf_matrix)"
   ]
  },
  {
   "cell_type": "code",
   "execution_count": 46,
   "id": "b6e825a7",
   "metadata": {},
   "outputs": [
    {
     "data": {
      "image/png": "[encoded data removed]",
      "text/plain": [
       "<Figure size 640x480 with 1 Axes>"
      ]
     },
     "metadata": {},
     "output_type": "display_data"
    },
    {
     "name": "stdout",
     "output_type": "stream",
     "text": [
      "Maximum accuracy: 0.50 for K = 1\n"
     ]
    }
   ],
   "source": [
    "import matplotlib.pyplot as plt\n",
    "from sklearn.metrics import accuracy_score\n",
    "\n",
    "# Define a range of K values to test\n",
    "k_values = range(1, 21)  # Test K from 1 to 20\n",
    "\n",
    "# Store the accuracy for each K value\n",
    "accuracies = []\n",
    "\n",
    "for k in k_values:\n",
    "    knn = KNNClassifier(k)\n",
    "    knn.fit(X_train.values, Y_train.values)\n",
    "    predictions = knn.predict(X_test.values)\n",
    "    acc = accuracy_score(Y_test, predictions)\n",
    "    accuracies.append(acc)\n",
    "\n",
    "# Plot K vs. Accuracy curve\n",
    "plt.plot(k_values, accuracies, marker='o')\n",
    "plt.xlabel('K Value')\n",
    "plt.ylabel('Accuracy')\n",
    "plt.title('K vs. Accuracy')\n",
    "plt.xticks(k_values)\n",
    "plt.grid(True)\n",
    "plt.show()\n",
    "\n",
    "# Find the value of K for maximum accuracy\n",
    "max_acc = max(accuracies)\n",
    "best_k = k_values[accuracies.index(max_acc)]\n",
    "print(f\"Maximum accuracy: {max_acc:.2f} for K = {best_k}\")\n"
   ]
  },
  {
   "cell_type": "code",
   "execution_count": null,
   "id": "0c415e0b",
   "metadata": {},
   "outputs": [],
   "source": []
  }
 ],
 "metadata": {
  "kernelspec": {
   "display_name": "Python 3 (ipykernel)",
   "language": "python",
   "name": "python3"
  },
  "language_info": {
   "codemirror_mode": {
    "name": "ipython",
    "version": 3
   },
   "file_extension": ".py",
   "mimetype": "text/x-python",
   "name": "python",
   "nbconvert_exporter": "python",
   "pygments_lexer": "ipython3",
   "version": "3.10.9"
  }
 },
 "nbformat": 4,
 "nbformat_minor": 5
}
