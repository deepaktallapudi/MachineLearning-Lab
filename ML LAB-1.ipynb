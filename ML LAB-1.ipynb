{
 "cells": [
  {
   "cell_type": "markdown",
   "id": "6135434f",
   "metadata": {},
   "source": [
    "# Machine Learning Lab(CSE 336L)\n"
   ]
  },
  {
   "cell_type": "markdown",
   "id": "47f2f7b3",
   "metadata": {},
   "source": [
    "## Introduction to Numpy"
   ]
  },
  {
   "cell_type": "markdown",
   "id": "7fca298f",
   "metadata": {},
   "source": [
    "### Lists can be used in place of arrays in Python, although processing them takes a while.Up to 50 times quicker array objects than conventional Python lists are what NumPy seeks to deliver.The NumPy array object is known as ndarray, and it comes with a number of helpful methods that make using it a breeze.In data research, when resources and performance are critical, arrays are employed extensively.\n"
   ]
  },
  {
   "cell_type": "markdown",
   "id": "0339c581",
   "metadata": {},
   "source": [
    "### 1. Write a NumPy program to multiply two given arrays of same size element-by-element."
   ]
  },
  {
   "cell_type": "code",
   "execution_count": 26,
   "id": "f707caa2",
   "metadata": {},
   "outputs": [
    {
     "name": "stdout",
     "output_type": "stream",
     "text": [
      "Array 1: [1 2 3 4]\n",
      "Array 2: [5 6 7 8]\n",
      "Element-wise product: [ 5 12 21 32]\n"
     ]
    }
   ],
   "source": [
    "import numpy as np\n",
    "\n",
    "array1 = np.array([1, 2, 3, 4])\n",
    "array2 = np.array([5, 6, 7, 8])\n",
    "\n",
    "result = np.multiply(array1, array2)\n",
    "\n",
    "\n",
    "print(\"Array 1:\", array1)\n",
    "print(\"Array 2:\", array2)\n",
    "print(\"Element-wise product:\", result)"
   ]
  },
  {
   "cell_type": "markdown",
   "id": "bc6e58c5",
   "metadata": {},
   "source": [
    "### 2. Write a NumPy program to find the missing data in a given array."
   ]
  },
  {
   "cell_type": "code",
   "execution_count": 3,
   "id": "bd426a77",
   "metadata": {},
   "outputs": [
    {
     "name": "stdout",
     "output_type": "stream",
     "text": [
      "Original array: [ 1.  2. nan  4. nan  6.]\n",
      "Missing data indices: [False False  True False  True False]\n"
     ]
    }
   ],
   "source": [
    "import numpy as np\n",
    "\n",
    "array_with_missing_data = np.array([1.0, 2.0, np.nan, 4.0, np.nan, 6.0])\n",
    "\n",
    "missing_indices = np.isnan(array_with_missing_data)\n",
    "\n",
    "print(\"Original array:\", array_with_missing_data)\n",
    "print(\"Missing data indices:\", missing_indices)\n"
   ]
  },
  {
   "cell_type": "markdown",
   "id": "41801b7d",
   "metadata": {},
   "source": [
    "### 3. Write a NumPy program to test whether each element of a 1-D array is also present in a second array."
   ]
  },
  {
   "cell_type": "code",
   "execution_count": 4,
   "id": "8f8ae5d0",
   "metadata": {},
   "outputs": [
    {
     "name": "stdout",
     "output_type": "stream",
     "text": [
      "New Array 1: [ 2  4  6  8 10]\n",
      "New Array 2: [ 4  8 12 16]\n",
      "Element-wise presence check: [False  True False  True False]\n"
     ]
    }
   ],
   "source": [
    "import numpy as np\n",
    "\n",
    "new_array1 = np.array([2, 4, 6, 8, 10])\n",
    "new_array2 = np.array([4, 8, 12, 16])\n",
    "\n",
    "new_result = np.isin(new_array1, new_array2)\n",
    "\n",
    "print(\"New Array 1:\", new_array1)\n",
    "print(\"New Array 2:\", new_array2)\n",
    "print(\"Element-wise presence check:\", new_result)\n"
   ]
  },
  {
   "cell_type": "markdown",
   "id": "c67d0c8b",
   "metadata": {},
   "source": [
    "### 4. Write a NumPy program to save a NumPy array to a text file."
   ]
  },
  {
   "cell_type": "code",
   "execution_count": 6,
   "id": "66a7bc42",
   "metadata": {},
   "outputs": [
    {
     "name": "stdout",
     "output_type": "stream",
     "text": [
      "New NumPy array saved to new_output.txt\n"
     ]
    }
   ],
   "source": [
    "import numpy as np\n",
    "\n",
    "new_data = np.array([[2, 4, 6],\n",
    "                     [8, 10, 12],\n",
    "                     [14, 16, 18]])\n",
    "\n",
    "new_file_path = 'new_output.txt'\n",
    "\n",
    "np.savetxt(new_file_path, new_data, fmt='%d', delimiter=',')\n",
    "\n",
    "print(f\"New NumPy array saved to {new_file_path}\")"
   ]
  },
  {
   "cell_type": "markdown",
   "id": "daa3661a",
   "metadata": {},
   "source": [
    "### 5. Write a NumPy program to Create a 1-D array of 30 evenly spaced elements between 2.5. and 6.5, inclusive."
   ]
  },
  {
   "cell_type": "code",
   "execution_count": 8,
   "id": "6728263b",
   "metadata": {},
   "outputs": [
    {
     "name": "stdout",
     "output_type": "stream",
     "text": [
      "New Original Series:\n",
      "0    [10, 20, 30, 40]\n",
      "1            [50, 60]\n",
      "2        [70, 80, 90]\n",
      "dtype: object\n",
      "\n",
      "New Converted Series:\n",
      "0    10\n",
      "0    20\n",
      "0    30\n",
      "0    40\n",
      "1    50\n",
      "1    60\n",
      "2    70\n",
      "2    80\n",
      "2    90\n",
      "dtype: object\n"
     ]
    }
   ],
   "source": [
    "import pandas as pd\n",
    "\n",
    "new_series_of_lists = pd.Series([[10, 20, 30, 40], [50, 60], [70, 80, 90]])\n",
    "\n",
    "new_result_series = new_series_of_lists.explode()\n",
    "\n",
    "print(\"New Original Series:\")\n",
    "print(new_series_of_lists)\n",
    "\n",
    "print(\"\\nNew Converted Series:\")\n",
    "print(new_result_series)\n"
   ]
  },
  {
   "cell_type": "markdown",
   "id": "b634fd5f",
   "metadata": {},
   "source": [
    "### Introduction to Pandas (Series and Dataframes)\n"
   ]
  },
  {
   "cell_type": "markdown",
   "id": "8eeea3d8",
   "metadata": {},
   "source": [
    "### A Python package called Pandas is used to work with data collections. Its features include data manipulation, cleansing, analysis, and exploration. Using statistical theories, pandas enables us to analyse large amounts of data and draw conclusions.  Pandas can tidy up unstructured data sets, making them more meaningful and understandable.In data science, pertinent data is crucial.\n"
   ]
  },
  {
   "cell_type": "markdown",
   "id": "b974cbe4",
   "metadata": {},
   "source": [
    "### 1. Write a Pandas program to convert Series of lists to one Series. "
   ]
  },
  {
   "cell_type": "code",
   "execution_count": 24,
   "id": "3e284fb5",
   "metadata": {},
   "outputs": [
    {
     "name": "stdout",
     "output_type": "stream",
     "text": [
      "New Original Series:\n",
      "0    [10, 20, 30, 40]\n",
      "1            [50, 60]\n",
      "2        [70, 80, 90]\n",
      "dtype: object\n",
      "\n",
      "New Converted Series:\n",
      "0    10\n",
      "0    20\n",
      "0    30\n",
      "0    40\n",
      "1    50\n",
      "1    60\n",
      "2    70\n",
      "2    80\n",
      "2    90\n",
      "dtype: object\n"
     ]
    }
   ],
   "source": [
    "import pandas as pd\n",
    "\n",
    "new_series_of_lists = pd.Series([[10, 20, 30, 40], [50, 60], [70, 80, 90]])\n",
    "\n",
    "new_result_series = new_series_of_lists.explode()\n",
    "\n",
    "print(\"New Original Series:\")\n",
    "print(new_series_of_lists)\n",
    "\n",
    "print(\"\\nNew Converted Series:\")\n",
    "print(new_result_series)"
   ]
  },
  {
   "cell_type": "markdown",
   "id": "0194937d",
   "metadata": {},
   "source": [
    "### 2. Write a Pandas program to create a subset of a given series based on value andcondition."
   ]
  },
  {
   "cell_type": "code",
   "execution_count": 9,
   "id": "66f83c8d",
   "metadata": {},
   "outputs": [
    {
     "name": "stdout",
     "output_type": "stream",
     "text": [
      "New Original Series:\n",
      "X    15\n",
      "Y    25\n",
      "Z    35\n",
      "W    45\n",
      "K    55\n",
      "dtype: int64\n",
      "\n",
      "New Subset Series based on new condition:\n",
      "X    15\n",
      "Y    25\n",
      "dtype: int64\n"
     ]
    }
   ],
   "source": [
    "import pandas as pd\n",
    "\n",
    "new_data = {'X': 15, 'Y': 25, 'Z': 35, 'W': 45, 'K': 55}\n",
    "new_series = pd.Series(new_data)\n",
    "\n",
    "new_condition = new_series <= 25\n",
    "\n",
    "new_subset_series = new_series[new_condition]\n",
    "\n",
    "print(\"New Original Series:\")\n",
    "print(new_series)\n",
    "\n",
    "print(\"\\nNew Subset Series based on new condition:\")\n",
    "print(new_subset_series)\n"
   ]
  },
  {
   "cell_type": "markdown",
   "id": "2ec21d3f",
   "metadata": {},
   "source": [
    "### 3. Write a Pandas program to display most frequent value in a given series and replace everything else as 'Other' in the series."
   ]
  },
  {
   "cell_type": "code",
   "execution_count": 10,
   "id": "7024a9a7",
   "metadata": {},
   "outputs": [
    {
     "name": "stdout",
     "output_type": "stream",
     "text": [
      "New Original Series:\n",
      "0    X\n",
      "1    Y\n",
      "2    X\n",
      "3    Z\n",
      "4    Y\n",
      "5    X\n",
      "6    X\n",
      "7    Z\n",
      "8    Z\n",
      "dtype: object\n",
      "\n",
      "New Modified Series:\n",
      "0        X\n",
      "1    Other\n",
      "2        X\n",
      "3    Other\n",
      "4    Other\n",
      "5        X\n",
      "6        X\n",
      "7    Other\n",
      "8    Other\n",
      "dtype: object\n"
     ]
    }
   ],
   "source": [
    "import pandas as pd\n",
    "\n",
    "new_data = {'Category': ['X', 'Y', 'X', 'Z', 'Y', 'X', 'X', 'Z', 'Z']}\n",
    "new_series = pd.Series(new_data['Category'])\n",
    "\n",
    "new_most_frequent_value = new_series.mode()[0]\n",
    "\n",
    "new_modified_series = new_series.where(new_series == new_most_frequent_value, 'Other')\n",
    "\n",
    "print(\"New Original Series:\")\n",
    "print(new_series)\n",
    "\n",
    "print(\"\\nNew Modified Series:\")\n",
    "print(new_modified_series)\n"
   ]
  },
  {
   "cell_type": "markdown",
   "id": "ac5cc780",
   "metadata": {},
   "source": [
    "### 4. Write a Pandas program to find the positions of numbers that are multiples of 5 of a given series."
   ]
  },
  {
   "cell_type": "code",
   "execution_count": 11,
   "id": "276eeff9",
   "metadata": {},
   "outputs": [
    {
     "name": "stdout",
     "output_type": "stream",
     "text": [
      "New Original Series:\n",
      "0     8\n",
      "1    12\n",
      "2    18\n",
      "3    22\n",
      "4    25\n",
      "5    32\n",
      "6    40\n",
      "7    45\n",
      "dtype: int64\n",
      "\n",
      "New Positions of numbers that are multiples of 5:\n",
      "Index([4, 6, 7], dtype='int64')\n"
     ]
    }
   ],
   "source": [
    "import pandas as pd\n",
    "\n",
    "new_data = {'Numbers': [8, 12, 18, 22, 25, 32, 40, 45]}\n",
    "new_series = pd.Series(new_data['Numbers'])\n",
    "\n",
    "new_positions_of_multiples_of_5 = new_series.index[new_series % 5 == 0]\n",
    "\n",
    "print(\"New Original Series:\")\n",
    "print(new_series)\n",
    "\n",
    "print(\"\\nNew Positions of numbers that are multiples of 5:\")\n",
    "print(new_positions_of_multiples_of_5)\n"
   ]
  },
  {
   "cell_type": "markdown",
   "id": "c0e34eed",
   "metadata": {},
   "source": [
    "### 5. Write a Pandas program to calculate the number of characters in each word in a given series."
   ]
  },
  {
   "cell_type": "code",
   "execution_count": 12,
   "id": "46691ba2",
   "metadata": {},
   "outputs": [
    {
     "name": "stdout",
     "output_type": "stream",
     "text": [
      "New Original Series:\n",
      "0        python\n",
      "1          java\n",
      "2    javascript\n",
      "3        csharp\n",
      "4          ruby\n",
      "dtype: object\n",
      "\n",
      "Number of characters in each word:\n",
      "0     6\n",
      "1     4\n",
      "2    10\n",
      "3     6\n",
      "4     4\n",
      "dtype: int64\n"
     ]
    }
   ],
   "source": [
    "import pandas as pd\n",
    "\n",
    "new_data = {'Text': ['python', 'java', 'javascript', 'csharp', 'ruby']}\n",
    "new_series = pd.Series(new_data['Text'])\n",
    "\n",
    "new_word_lengths = new_series.str.len()\n",
    "\n",
    "print(\"New Original Series:\")\n",
    "print(new_series)\n",
    "\n",
    "print(\"\\nNumber of characters in each word:\")\n",
    "print(new_word_lengths)\n"
   ]
  },
  {
   "cell_type": "markdown",
   "id": "bd1a6903",
   "metadata": {},
   "source": [
    "### 6. Write a Pandas program to convert year-month string to dates adding a specified day of the month."
   ]
  },
  {
   "cell_type": "code",
   "execution_count": 13,
   "id": "27c724e6",
   "metadata": {},
   "outputs": [
    {
     "name": "stdout",
     "output_type": "stream",
     "text": [
      "New Original Series:\n",
      "0    2023-05\n",
      "1    2023-06\n",
      "2    2023-07\n",
      "3    2023-08\n",
      "dtype: object\n",
      "\n",
      "New Resulting Dates:\n",
      "0   2023-05-10\n",
      "1   2023-06-10\n",
      "2   2023-07-10\n",
      "3   2023-08-10\n",
      "dtype: datetime64[ns]\n"
     ]
    }
   ],
   "source": [
    "import pandas as pd\n",
    "\n",
    "new_data = {'YearMonth': ['2023-05', '2023-06', '2023-07', '2023-08']}\n",
    "new_series = pd.Series(new_data['YearMonth'])\n",
    "\n",
    "new_day_of_month = 10\n",
    "\n",
    "new_result_dates = pd.to_datetime(new_series + '-' + str(new_day_of_month), format='%Y-%m-%d')\n",
    "\n",
    "print(\"New Original Series:\")\n",
    "print(new_series)\n",
    "\n",
    "print(\"\\nNew Resulting Dates:\")\n",
    "print(new_result_dates)\n"
   ]
  },
  {
   "cell_type": "markdown",
   "id": "03c12c72",
   "metadata": {},
   "source": [
    "### 7. Write a Pandas program to create and display a DataFrame from a specified dictionary data which has the index labels."
   ]
  },
  {
   "cell_type": "code",
   "execution_count": 14,
   "id": "72e499e5",
   "metadata": {},
   "outputs": [
    {
     "name": "stdout",
     "output_type": "stream",
     "text": [
      "            Name  Age           City\n",
      "Person1   deepak   25       New York\n",
      "Person2   cherry   30    Los Angeles\n",
      "Person3    akash   22        Chicago\n",
      "Person4  srikari   28  San Francisco\n"
     ]
    }
   ],
   "source": [
    "import pandas as pd\n",
    "\n",
    "data = {'Name': ['deepak', 'cherry', 'akash', 'srikari'],\n",
    "        'Age': [25, 30, 22, 28],\n",
    "        'City': ['New York', 'Los Angeles', 'Chicago', 'San Francisco']}\n",
    "\n",
    "index_labels = ['Person1', 'Person2', 'Person3', 'Person4']\n",
    "\n",
    "df = pd.DataFrame(data, index=index_labels)\n",
    "\n",
    "print(df)\n"
   ]
  },
  {
   "cell_type": "markdown",
   "id": "708410b5",
   "metadata": {},
   "source": [
    "### 8. Write a Pandas program to select the rows where the number of attempts in the examination is greater than 2."
   ]
  },
  {
   "cell_type": "code",
   "execution_count": 15,
   "id": "fbfbca5d",
   "metadata": {},
   "outputs": [
    {
     "name": "stdout",
     "output_type": "stream",
     "text": [
      "New DataFrame:\n",
      "      Name  Attempts  Score\n",
      "0   Cherry         4     89\n",
      "1   Deepak         5     95\n",
      "2   Meruva         2     70\n",
      "3    Akash         3     85\n",
      "4  Srikari         4     92\n",
      "\n",
      "Selected rows where the number of attempts is greater than 2:\n",
      "      Name  Attempts  Score\n",
      "0   Cherry         4     89\n",
      "1   Deepak         5     95\n",
      "3    Akash         3     85\n",
      "4  Srikari         4     92\n"
     ]
    }
   ],
   "source": [
    "import pandas as pd\n",
    "\n",
    "new_data = {'Name': ['Cherry', 'Deepak', 'Meruva', 'Akash', 'Srikari'],\n",
    "            'Attempts': [4, 5, 2, 3, 4],\n",
    "            'Score': [89, 95, 70, 85, 92]}\n",
    "\n",
    "new_df = pd.DataFrame(new_data)\n",
    "\n",
    "new_result_df = new_df[new_df['Attempts'] > 2]\n",
    "\n",
    "print(\"New DataFrame:\")\n",
    "print(new_df)\n",
    "\n",
    "print(\"\\nSelected rows where the number of attempts is greater than 2:\")\n",
    "print(new_result_df)\n"
   ]
  },
  {
   "cell_type": "markdown",
   "id": "8894e071",
   "metadata": {},
   "source": [
    "### 9. Write a Pandas program to append a new row 'k'to data frame with given values for each column. Now delete the new row and return the original DataFrame."
   ]
  },
  {
   "cell_type": "code",
   "execution_count": 16,
   "id": "de7a8a05",
   "metadata": {},
   "outputs": [
    {
     "name": "stdout",
     "output_type": "stream",
     "text": [
      "New DataFrame:\n",
      "      Name  Attempts  Score\n",
      "0   deepak         2     85\n",
      "1   cherry         3     78\n",
      "2    akash         1     92\n",
      "3   meruva         4     89\n",
      "4  srikari         5     94\n"
     ]
    },
    {
     "ename": "AttributeError",
     "evalue": "'DataFrame' object has no attribute 'append'",
     "output_type": "error",
     "traceback": [
      "\u001b[1;31m---------------------------------------------------------------------------\u001b[0m",
      "\u001b[1;31mAttributeError\u001b[0m                            Traceback (most recent call last)",
      "Cell \u001b[1;32mIn[16], line 13\u001b[0m\n\u001b[0;32m     10\u001b[0m \u001b[38;5;28mprint\u001b[39m(new_df)\n\u001b[0;32m     12\u001b[0m new_row \u001b[38;5;241m=\u001b[39m {\u001b[38;5;124m'\u001b[39m\u001b[38;5;124mName\u001b[39m\u001b[38;5;124m'\u001b[39m: \u001b[38;5;124m'\u001b[39m\u001b[38;5;124mNewPerson\u001b[39m\u001b[38;5;124m'\u001b[39m, \u001b[38;5;124m'\u001b[39m\u001b[38;5;124mAttempts\u001b[39m\u001b[38;5;124m'\u001b[39m: \u001b[38;5;241m5\u001b[39m, \u001b[38;5;124m'\u001b[39m\u001b[38;5;124mScore\u001b[39m\u001b[38;5;124m'\u001b[39m: \u001b[38;5;241m85\u001b[39m}\n\u001b[1;32m---> 13\u001b[0m new_df \u001b[38;5;241m=\u001b[39m \u001b[43mnew_df\u001b[49m\u001b[38;5;241;43m.\u001b[39;49m\u001b[43mappend\u001b[49m(new_row, ignore_index\u001b[38;5;241m=\u001b[39m\u001b[38;5;28;01mTrue\u001b[39;00m)\n\u001b[0;32m     15\u001b[0m \u001b[38;5;28mprint\u001b[39m(\u001b[38;5;124m\"\u001b[39m\u001b[38;5;130;01m\\n\u001b[39;00m\u001b[38;5;124mNew DataFrame with the new row:\u001b[39m\u001b[38;5;124m\"\u001b[39m)\n\u001b[0;32m     16\u001b[0m \u001b[38;5;28mprint\u001b[39m(new_df)\n",
      "File \u001b[1;32m~\\AppData\\Roaming\\Python\\Python310\\site-packages\\pandas\\core\\generic.py:5989\u001b[0m, in \u001b[0;36mNDFrame.__getattr__\u001b[1;34m(self, name)\u001b[0m\n\u001b[0;32m   5982\u001b[0m \u001b[38;5;28;01mif\u001b[39;00m (\n\u001b[0;32m   5983\u001b[0m     name \u001b[38;5;129;01mnot\u001b[39;00m \u001b[38;5;129;01min\u001b[39;00m \u001b[38;5;28mself\u001b[39m\u001b[38;5;241m.\u001b[39m_internal_names_set\n\u001b[0;32m   5984\u001b[0m     \u001b[38;5;129;01mand\u001b[39;00m name \u001b[38;5;129;01mnot\u001b[39;00m \u001b[38;5;129;01min\u001b[39;00m \u001b[38;5;28mself\u001b[39m\u001b[38;5;241m.\u001b[39m_metadata\n\u001b[0;32m   5985\u001b[0m     \u001b[38;5;129;01mand\u001b[39;00m name \u001b[38;5;129;01mnot\u001b[39;00m \u001b[38;5;129;01min\u001b[39;00m \u001b[38;5;28mself\u001b[39m\u001b[38;5;241m.\u001b[39m_accessors\n\u001b[0;32m   5986\u001b[0m     \u001b[38;5;129;01mand\u001b[39;00m \u001b[38;5;28mself\u001b[39m\u001b[38;5;241m.\u001b[39m_info_axis\u001b[38;5;241m.\u001b[39m_can_hold_identifiers_and_holds_name(name)\n\u001b[0;32m   5987\u001b[0m ):\n\u001b[0;32m   5988\u001b[0m     \u001b[38;5;28;01mreturn\u001b[39;00m \u001b[38;5;28mself\u001b[39m[name]\n\u001b[1;32m-> 5989\u001b[0m \u001b[38;5;28;01mreturn\u001b[39;00m \u001b[38;5;28;43mobject\u001b[39;49m\u001b[38;5;241;43m.\u001b[39;49m\u001b[38;5;21;43m__getattribute__\u001b[39;49m\u001b[43m(\u001b[49m\u001b[38;5;28;43mself\u001b[39;49m\u001b[43m,\u001b[49m\u001b[43m \u001b[49m\u001b[43mname\u001b[49m\u001b[43m)\u001b[49m\n",
      "\u001b[1;31mAttributeError\u001b[0m: 'DataFrame' object has no attribute 'append'"
     ]
    }
   ],
   "source": [
    "import pandas as pd\n",
    "\n",
    "new_data = {'Name': ['deepak', 'cherry', 'akash', 'meruva', 'srikari'],\n",
    "            'Attempts': [2, 3, 1, 4, 5],\n",
    "            'Score': [85, 78, 92, 89, 94]}\n",
    "\n",
    "new_df = pd.DataFrame(new_data)\n",
    "\n",
    "print(\"New DataFrame:\")\n",
    "print(new_df)\n",
    "\n",
    "new_row = {'Name': 'NewPerson', 'Attempts': 5, 'Score': 85}\n",
    "new_df = new_df.append(new_row, ignore_index=True)\n",
    "\n",
    "print(\"\\nNew DataFrame with the new row:\")\n",
    "print(new_df)\n",
    "\n",
    "new_df = new_df.drop(index=new_df.index[-1])\n",
    "\n",
    "print(\"\\nNew DataFrame after deleting the new row:\")\n",
    "print(new_df)\n"
   ]
  },
  {
   "cell_type": "markdown",
   "id": "dbbca71b",
   "metadata": {},
   "source": [
    "### 10. Write a Pandas program to sort the DataFrame first by 'name' in descending order, then by 'score' in ascending order."
   ]
  },
  {
   "cell_type": "code",
   "execution_count": 19,
   "id": "c8053a85",
   "metadata": {},
   "outputs": [
    {
     "name": "stdout",
     "output_type": "stream",
     "text": [
      "New DataFrame:\n",
      "      Name  Attempts  Score\n",
      "0   deepak         2     85\n",
      "1   cherry         3     78\n",
      "2    akash         1     92\n",
      "3  srikari         4     89\n",
      "\n",
      "Sorted DataFrame:\n",
      "      Name  Attempts  Score\n",
      "3  srikari         4     89\n",
      "0   deepak         2     85\n",
      "1   cherry         3     78\n",
      "2    akash         1     92\n"
     ]
    }
   ],
   "source": [
    "import pandas as pd\n",
    "\n",
    "new_data = {'Name': ['deepak', 'cherry', 'akash', 'srikari'],\n",
    "            'Attempts': [2, 3, 1, 4],\n",
    "            'Score': [85, 78, 92, 89]}\n",
    "\n",
    "new_df = pd.DataFrame(new_data)\n",
    "\n",
    "print(\"New DataFrame:\")\n",
    "print(new_df)\n",
    "\n",
    "new_df = new_df.sort_values(by=['Name', 'Score'], ascending=[False, True])\n",
    "\n",
    "print(\"\\nSorted DataFrame:\")\n",
    "print(new_df)\n"
   ]
  },
  {
   "cell_type": "markdown",
   "id": "baf203b8",
   "metadata": {},
   "source": [
    "### 11. Write a Pandas program to replace the 'qualify' column contains the values 'yes' and 'no' with True and False."
   ]
  },
  {
   "cell_type": "code",
   "execution_count": 20,
   "id": "0ebfdfaf",
   "metadata": {},
   "outputs": [
    {
     "name": "stdout",
     "output_type": "stream",
     "text": [
      "New DataFrame:\n",
      "      Name  Attempts Qualify\n",
      "0   deepak         2     yes\n",
      "1   cherry         3      no\n",
      "2    akash         1     yes\n",
      "3  srikari         4      no\n",
      "\n",
      "New DataFrame after replacing 'yes' and 'no' with True and False:\n",
      "      Name  Attempts  Qualify\n",
      "0   deepak         2     True\n",
      "1   cherry         3    False\n",
      "2    akash         1     True\n",
      "3  srikari         4    False\n"
     ]
    }
   ],
   "source": [
    "import pandas as pd\n",
    "\n",
    "new_data = {'Name': ['deepak', 'cherry', 'akash', 'srikari'],\n",
    "            'Attempts': [2, 3, 1, 4],\n",
    "            'Qualify': ['yes', 'no', 'yes', 'no']}\n",
    "\n",
    "new_df = pd.DataFrame(new_data)\n",
    "\n",
    "print(\"New DataFrame:\")\n",
    "print(new_df)\n",
    "\n",
    "new_df['Qualify'] = new_df['Qualify'].replace({'yes': True, 'no': False})\n",
    "\n",
    "print(\"\\nNew DataFrame after replacing 'yes' and 'no' with True and False:\")\n",
    "print(new_df)\n"
   ]
  },
  {
   "cell_type": "markdown",
   "id": "3eb6f71d",
   "metadata": {},
   "source": [
    "### 12. Write a Pandas program to remove infinite values from a given DataFrame."
   ]
  },
  {
   "cell_type": "code",
   "execution_count": 21,
   "id": "da1781e1",
   "metadata": {},
   "outputs": [
    {
     "name": "stdout",
     "output_type": "stream",
     "text": [
      "New DataFrame:\n",
      "     A     B\n",
      "0  3.0   inf\n",
      "1  6.0  11.0\n",
      "2  inf  13.0\n",
      "3  9.0  15.0\n",
      "\n",
      "New DataFrame after removing infinite values:\n",
      "     A     B\n",
      "1  6.0  11.0\n",
      "3  9.0  15.0\n"
     ]
    }
   ],
   "source": [
    "import pandas as pd\n",
    "import numpy as np\n",
    "\n",
    "new_data = {'A': [3, 6, np.inf, 9],\n",
    "            'B': [np.inf, 11, 13, 15]}\n",
    "\n",
    "new_df = pd.DataFrame(new_data)\n",
    "\n",
    "print(\"New DataFrame:\")\n",
    "print(new_df)\n",
    "\n",
    "new_df.replace([np.inf, -np.inf], np.nan, inplace=True)\n",
    "\n",
    "new_df = new_df.dropna()\n",
    "\n",
    "print(\"\\nNew DataFrame after removing infinite values:\")\n",
    "print(new_df)\n"
   ]
  },
  {
   "cell_type": "code",
   "execution_count": null,
   "id": "b183d6a5",
   "metadata": {},
   "outputs": [],
   "source": []
  }
 ],
 "metadata": {
  "kernelspec": {
   "display_name": "Python 3 (ipykernel)",
   "language": "python",
   "name": "python3"
  },
  "language_info": {
   "codemirror_mode": {
    "name": "ipython",
    "version": 3
   },
   "file_extension": ".py",
   "mimetype": "text/x-python",
   "name": "python",
   "nbconvert_exporter": "python",
   "pygments_lexer": "ipython3",
   "version": "3.10.9"
  }
 },
 "nbformat": 4,
 "nbformat_minor": 5
}
